{
 "cells": [
  {
   "cell_type": "code",
   "execution_count": 7,
   "metadata": {},
   "outputs": [],
   "source": [
    "client_id=''\n",
    "client_secret = ''\n",
    "access_token = ''"
   ]
  },
  {
   "cell_type": "code",
   "execution_count": 8,
   "metadata": {},
   "outputs": [
    {
     "name": "stdout",
     "output_type": "stream",
     "text": [
      "Status Code: 200\n",
      "Response Content: {'id': 135306459, 'username': None, 'resource_state': 2, 'firstname': 'prova', 'lastname': 'test', 'bio': None, 'city': 'Selvazzano Dentro', 'state': 'Veneto', 'country': 'Italy', 'sex': None, 'premium': False, 'summit': False, 'created_at': '2024-04-15T17:59:08Z', 'updated_at': '2024-04-15T18:04:52Z', 'badge_type_id': 0, 'weight': None, 'profile_medium': 'https://d3nn82uaxijpm6.cloudfront.net/assets/avatar/athlete/medium-bee27e393b8559be0995b6573bcfde897d6af934dac8f392a6229295290e16dd.png', 'profile': 'https://d3nn82uaxijpm6.cloudfront.net/assets/avatar/athlete/large-800a7033cc92b2a5548399e26b1ef42414dd1a9cb13b99454222d38d58fd28ef.png', 'friend': None, 'follower': None}\n"
     ]
    }
   ],
   "source": [
    "import requests\n",
    "\n",
    "url = 'https://www.strava.com/api/v3/athlete'\n",
    "headers = {\n",
    "    'Authorization': 'Bearer '+access_token\n",
    "}\n",
    "\n",
    "response = requests.get(url, headers=headers)\n",
    "\n",
    "# Per stampare lo status code della risposta\n",
    "print(\"Status Code:\", response.status_code)\n",
    "\n",
    "# Per stampare il contenuto della risposta (ad esempio, in formato JSON)\n",
    "print(\"Response Content:\", response.json())\n"
   ]
  },
  {
   "cell_type": "code",
   "execution_count": 9,
   "metadata": {},
   "outputs": [
    {
     "data": {
      "text/markdown": [
       "\n",
       "Per ottenere le informazioni sull'atleta, copia e incolla il seguente url nel tuo Browser, autorizza le api alla lettura e poi ricordati di inserire il nuovo url della pagina web nella cella sottostante:\n",
       "\n",
       "```bash\n",
       "https://www.strava.com/oauth/authorize?client_id=124982&redirect_uri=http://localhost&response_type=code&scope=activity:read_all"
      ],
      "text/plain": [
       "<IPython.core.display.Markdown object>"
      ]
     },
     "metadata": {},
     "output_type": "display_data"
    }
   ],
   "source": [
    "from IPython.display import display, Markdown\n",
    "\n",
    "# Supponiamo che questa sia la variabile dove hai salvato l'access_token\n",
    "\n",
    "markdown_text = f\"\"\"\n",
    "Per ottenere le informazioni sull'atleta, copia e incolla il seguente url nel tuo Browser, autorizza le api alla lettura e poi ricordati di inserire il nuovo url della pagina web nella cella sottostante:\n",
    "\n",
    "```bash\n",
    "https://www.strava.com/oauth/authorize?client_id={client_id}&redirect_uri=http://localhost&response_type=code&scope=activity:read_all\"\"\"\n",
    "\n",
    "display(Markdown(markdown_text))\n"
   ]
  },
  {
   "cell_type": "code",
   "execution_count": 10,
   "metadata": {},
   "outputs": [],
   "source": [
    "url_restituito='http://localhost/?state=&code=48b09c053d5d63bffd50adc0fb9f9e796447a200&scope=read,activity:read_all'"
   ]
  },
  {
   "cell_type": "code",
   "execution_count": 11,
   "metadata": {},
   "outputs": [
    {
     "name": "stdout",
     "output_type": "stream",
     "text": [
      "48b09c053d5d63bffd50adc0fb9f9e796447a200\n"
     ]
    }
   ],
   "source": [
    "from urllib.parse import urlparse, parse_qs\n",
    "\n",
    "# L'URL da cui estrarre il codice\n",
    "url = url_restituito\n",
    "# Analizza l'URL per ottenere i componenti\n",
    "parsed_url = urlparse(url)\n",
    "\n",
    "# Estrai la stringa di query dall'URL analizzato\n",
    "query_string = parsed_url.query\n",
    "\n",
    "# Analizza la stringa di query per ottenere un dizionario dei parametri\n",
    "query_params = parse_qs(query_string)\n",
    "\n",
    "# Ora puoi ottenere il valore del codice\n",
    "code = query_params[\"code\"][0]  # '55f45adede3de7b8335cfc46ec4e8199d5bf7b62'\n",
    "print(code)\n"
   ]
  },
  {
   "cell_type": "code",
   "execution_count": 12,
   "metadata": {},
   "outputs": [
    {
     "name": "stdout",
     "output_type": "stream",
     "text": [
      "Access Token: 745fb8ecdc864ebc0e88785645181d4b54460ded f027c2b8f4198ad407d5b8fa0cbff2ae5ad65121\n"
     ]
    }
   ],
   "source": [
    "import requests\n",
    "\n",
    "# Sostituisci questi valori con i tuoi dati reali\n",
    "client_id = client_id\n",
    "client_secret = client_secret\n",
    "code = code  # Il codice di autorizzazione ottenuto\n",
    "\n",
    "url = 'https://www.strava.com/oauth/token'\n",
    "\n",
    "data = {\n",
    "    'client_id': client_id,\n",
    "    'client_secret': client_secret,\n",
    "    'code': code,\n",
    "    'grant_type': 'authorization_code'\n",
    "}\n",
    "\n",
    "response = requests.post(url, data=data)\n",
    "\n",
    "if response.status_code == 200:\n",
    "    # La richiesta è andata a buon fine; estrai il token di accesso dalla risposta\n",
    "    tokens = response.json()\n",
    "    access_token = tokens['access_token']\n",
    "    refresh_token = tokens['refresh_token']  # Puoi salvarlo per rinnovare l'accesso in futuro\n",
    "    print(\"Access Token:\", access_token, refresh_token)\n",
    "    # Puoi anche stampare o salvare il refresh_token se necessario\n",
    "else:\n",
    "    print(\"Errore nella richiesta:\", response.status_code, response.text)\n"
   ]
  },
  {
   "cell_type": "markdown",
   "metadata": {},
   "source": [
    "# DA QUI IN POI RIPETERE PER SCARICARE I NUOVI DATI, GLI STEP PRECEDENTI NON SONO DA RIPETERE."
   ]
  },
  {
   "cell_type": "code",
   "execution_count": 18,
   "metadata": {},
   "outputs": [
    {
     "name": "stdout",
     "output_type": "stream",
     "text": [
      "Requesting Token...\n",
      "\n"
     ]
    },
    {
     "name": "stderr",
     "output_type": "stream",
     "text": [
      "/Users/mircomiglietta/Documents/RUNTRAKER/codice/my_env/lib/python3.12/site-packages/urllib3/connectionpool.py:1103: InsecureRequestWarning: Unverified HTTPS request is being made to host 'www.strava.com'. Adding certificate verification is strongly advised. See: https://urllib3.readthedocs.io/en/latest/advanced-usage.html#tls-warnings\n",
      "  warnings.warn(\n"
     ]
    },
    {
     "name": "stdout",
     "output_type": "stream",
     "text": [
      "Access Token = 745fb8ecdc864ebc0e88785645181d4b54460ded\n",
      "\n",
      "Retrieved page 1\n"
     ]
    }
   ],
   "source": [
    "import pandas as pd\n",
    "import requests\n",
    "\n",
    "\n",
    "auth_url = \"https://www.strava.com/oauth/token\"\n",
    "activites_url = \"https://www.strava.com/api/v3/athlete/activities\"\n",
    "\n",
    "payload = {\n",
    "    'client_id':    client_id,\n",
    "    'client_secret': client_secret,\n",
    "    'refresh_token': refresh_token,\n",
    "    'grant_type': \"refresh_token\",\n",
    "    'f': 'json'\n",
    "}\n",
    "\n",
    "print(\"Requesting Token...\\n\")\n",
    "res = requests.post(auth_url, data=payload, verify=False)\n",
    "access_token = res.json()['access_token']\n",
    "print(\"Access Token = {}\\n\".format(access_token))\n",
    "datasets = []\n",
    "page =1 \n",
    "page_not_empty = True\n",
    "while page_not_empty:\n",
    "    header = {'Authorization': 'Bearer ' + access_token}\n",
    "    param = {'per_page': 200, 'page': page}\n",
    "    response = requests.get(activites_url, headers=header, params=param)\n",
    "    \n",
    "    if response.status_code != 200:\n",
    "        print(\"Failed to retrieve data for page {}\".format(page))\n",
    "        break\n",
    "\n",
    "    my_dataset = pd.DataFrame(response.json())\n",
    "    \n",
    "    if my_dataset.empty:\n",
    "        break\n",
    "\n",
    "    datasets.append(my_dataset)\n",
    "    print(\"Retrieved page {}\".format(page))\n",
    "    page += 1\n",
    "\n",
    "    activities_df = pd.concat(datasets, ignore_index=True)\n",
    "else:\n",
    "    print(\"Failed to retrieve access token\")\n",
    "\n",
    "\n",
    "\n",
    "\n"
   ]
  },
  {
   "cell_type": "markdown",
   "metadata": {},
   "source": [
    "## Stampo i nomi delle colonne del Df per capire quali tenere "
   ]
  },
  {
   "cell_type": "code",
   "execution_count": 19,
   "metadata": {},
   "outputs": [
    {
     "name": "stdout",
     "output_type": "stream",
     "text": [
      "   resource_state                                 athlete          name  \\\n",
      "0               2  {'id': 135306459, 'resource_state': 1}  Corsa serale   \n",
      "\n",
      "   distance  moving_time  elapsed_time  total_elevation_gain type sport_type  \\\n",
      "0   10000.0         3600          3600                     0  Run        Run   \n",
      "\n",
      "   workout_type  ...  max_speed has_heartrate heartrate_opt_out  \\\n",
      "0             3  ...          0         False             False   \n",
      "\n",
      "  display_hide_heartrate_option  upload_id external_id from_accepted_tag  \\\n",
      "0                         False       None        None             False   \n",
      "\n",
      "  pr_count  total_photo_count  has_kudoed  \n",
      "0        0                  0       False  \n",
      "\n",
      "[1 rows x 44 columns]\n"
     ]
    }
   ],
   "source": [
    "print(activities_df)"
   ]
  },
  {
   "cell_type": "code",
   "execution_count": 17,
   "metadata": {},
   "outputs": [],
   "source": [
    "activities_df.to_csv('RunTracker.csv', sep=';')"
   ]
  },
  {
   "cell_type": "markdown",
   "metadata": {},
   "source": [
    "## Stampo il df con solo le colonne di mio interesse"
   ]
  },
  {
   "cell_type": "code",
   "execution_count": 21,
   "metadata": {},
   "outputs": [
    {
     "ename": "KeyError",
     "evalue": "\"['average_heartrate'] not in index\"",
     "output_type": "error",
     "traceback": [
      "\u001b[0;31m---------------------------------------------------------------------------\u001b[0m",
      "\u001b[0;31mKeyError\u001b[0m                                  Traceback (most recent call last)",
      "Cell \u001b[0;32mIn[21], line 11\u001b[0m\n\u001b[1;32m      1\u001b[0m columns_relevant \u001b[38;5;241m=\u001b[39m [\u001b[38;5;124m'\u001b[39m\u001b[38;5;124maverage_heartrate\u001b[39m\u001b[38;5;124m'\u001b[39m\n\u001b[1;32m      2\u001b[0m ,\u001b[38;5;124m'\u001b[39m\u001b[38;5;124maverage_speed\u001b[39m\u001b[38;5;124m'\u001b[39m\n\u001b[1;32m      3\u001b[0m ,\u001b[38;5;124m'\u001b[39m\u001b[38;5;124mname\u001b[39m\u001b[38;5;124m'\u001b[39m\n\u001b[0;32m   (...)\u001b[0m\n\u001b[1;32m      8\u001b[0m ,\u001b[38;5;124m'\u001b[39m\u001b[38;5;124msport_type\u001b[39m\u001b[38;5;124m'\u001b[39m\n\u001b[1;32m      9\u001b[0m ,\u001b[38;5;124m'\u001b[39m\u001b[38;5;124mstart_date\u001b[39m\u001b[38;5;124m'\u001b[39m]\n\u001b[0;32m---> 11\u001b[0m \u001b[43mactivities_df\u001b[49m\u001b[43m[\u001b[49m\u001b[43mcolumns_relevant\u001b[49m\u001b[43m]\u001b[49m\n",
      "File \u001b[0;32m~/Documents/RUNTRAKER/codice/my_env/lib/python3.12/site-packages/pandas/core/frame.py:4108\u001b[0m, in \u001b[0;36mDataFrame.__getitem__\u001b[0;34m(self, key)\u001b[0m\n\u001b[1;32m   4106\u001b[0m     \u001b[38;5;28;01mif\u001b[39;00m is_iterator(key):\n\u001b[1;32m   4107\u001b[0m         key \u001b[38;5;241m=\u001b[39m \u001b[38;5;28mlist\u001b[39m(key)\n\u001b[0;32m-> 4108\u001b[0m     indexer \u001b[38;5;241m=\u001b[39m \u001b[38;5;28;43mself\u001b[39;49m\u001b[38;5;241;43m.\u001b[39;49m\u001b[43mcolumns\u001b[49m\u001b[38;5;241;43m.\u001b[39;49m\u001b[43m_get_indexer_strict\u001b[49m\u001b[43m(\u001b[49m\u001b[43mkey\u001b[49m\u001b[43m,\u001b[49m\u001b[43m \u001b[49m\u001b[38;5;124;43m\"\u001b[39;49m\u001b[38;5;124;43mcolumns\u001b[39;49m\u001b[38;5;124;43m\"\u001b[39;49m\u001b[43m)\u001b[49m[\u001b[38;5;241m1\u001b[39m]\n\u001b[1;32m   4110\u001b[0m \u001b[38;5;66;03m# take() does not accept boolean indexers\u001b[39;00m\n\u001b[1;32m   4111\u001b[0m \u001b[38;5;28;01mif\u001b[39;00m \u001b[38;5;28mgetattr\u001b[39m(indexer, \u001b[38;5;124m\"\u001b[39m\u001b[38;5;124mdtype\u001b[39m\u001b[38;5;124m\"\u001b[39m, \u001b[38;5;28;01mNone\u001b[39;00m) \u001b[38;5;241m==\u001b[39m \u001b[38;5;28mbool\u001b[39m:\n",
      "File \u001b[0;32m~/Documents/RUNTRAKER/codice/my_env/lib/python3.12/site-packages/pandas/core/indexes/base.py:6200\u001b[0m, in \u001b[0;36mIndex._get_indexer_strict\u001b[0;34m(self, key, axis_name)\u001b[0m\n\u001b[1;32m   6197\u001b[0m \u001b[38;5;28;01melse\u001b[39;00m:\n\u001b[1;32m   6198\u001b[0m     keyarr, indexer, new_indexer \u001b[38;5;241m=\u001b[39m \u001b[38;5;28mself\u001b[39m\u001b[38;5;241m.\u001b[39m_reindex_non_unique(keyarr)\n\u001b[0;32m-> 6200\u001b[0m \u001b[38;5;28;43mself\u001b[39;49m\u001b[38;5;241;43m.\u001b[39;49m\u001b[43m_raise_if_missing\u001b[49m\u001b[43m(\u001b[49m\u001b[43mkeyarr\u001b[49m\u001b[43m,\u001b[49m\u001b[43m \u001b[49m\u001b[43mindexer\u001b[49m\u001b[43m,\u001b[49m\u001b[43m \u001b[49m\u001b[43maxis_name\u001b[49m\u001b[43m)\u001b[49m\n\u001b[1;32m   6202\u001b[0m keyarr \u001b[38;5;241m=\u001b[39m \u001b[38;5;28mself\u001b[39m\u001b[38;5;241m.\u001b[39mtake(indexer)\n\u001b[1;32m   6203\u001b[0m \u001b[38;5;28;01mif\u001b[39;00m \u001b[38;5;28misinstance\u001b[39m(key, Index):\n\u001b[1;32m   6204\u001b[0m     \u001b[38;5;66;03m# GH 42790 - Preserve name from an Index\u001b[39;00m\n",
      "File \u001b[0;32m~/Documents/RUNTRAKER/codice/my_env/lib/python3.12/site-packages/pandas/core/indexes/base.py:6252\u001b[0m, in \u001b[0;36mIndex._raise_if_missing\u001b[0;34m(self, key, indexer, axis_name)\u001b[0m\n\u001b[1;32m   6249\u001b[0m     \u001b[38;5;28;01mraise\u001b[39;00m \u001b[38;5;167;01mKeyError\u001b[39;00m(\u001b[38;5;124mf\u001b[39m\u001b[38;5;124m\"\u001b[39m\u001b[38;5;124mNone of [\u001b[39m\u001b[38;5;132;01m{\u001b[39;00mkey\u001b[38;5;132;01m}\u001b[39;00m\u001b[38;5;124m] are in the [\u001b[39m\u001b[38;5;132;01m{\u001b[39;00maxis_name\u001b[38;5;132;01m}\u001b[39;00m\u001b[38;5;124m]\u001b[39m\u001b[38;5;124m\"\u001b[39m)\n\u001b[1;32m   6251\u001b[0m not_found \u001b[38;5;241m=\u001b[39m \u001b[38;5;28mlist\u001b[39m(ensure_index(key)[missing_mask\u001b[38;5;241m.\u001b[39mnonzero()[\u001b[38;5;241m0\u001b[39m]]\u001b[38;5;241m.\u001b[39munique())\n\u001b[0;32m-> 6252\u001b[0m \u001b[38;5;28;01mraise\u001b[39;00m \u001b[38;5;167;01mKeyError\u001b[39;00m(\u001b[38;5;124mf\u001b[39m\u001b[38;5;124m\"\u001b[39m\u001b[38;5;132;01m{\u001b[39;00mnot_found\u001b[38;5;132;01m}\u001b[39;00m\u001b[38;5;124m not in index\u001b[39m\u001b[38;5;124m\"\u001b[39m)\n",
      "\u001b[0;31mKeyError\u001b[0m: \"['average_heartrate'] not in index\""
     ]
    }
   ],
   "source": [
    "columns_relevant = ['average_heartrate'\n",
    ",'average_speed'\n",
    ",'name'\n",
    ",'distance'\n",
    ",'has_heartrate'\n",
    ",'max_speed'\n",
    ",'moving_time'\n",
    ",'sport_type'\n",
    ",'start_date']\n",
    "\n",
    "activities_df[columns_relevant]\n"
   ]
  },
  {
   "cell_type": "markdown",
   "metadata": {},
   "source": [
    "## Calcolo la velocità in km/h e minuti al kilometro"
   ]
  },
  {
   "cell_type": "code",
   "execution_count": 4,
   "metadata": {},
   "outputs": [],
   "source": [
    "activities_df['average_speed_min_km'] =((activities_df['moving_time']/60)/(activities_df['distance']/1000)).astype(int)+(((activities_df['moving_time']/60)/(activities_df['distance']/1000)%1)*0.6)\n",
    "activities_df['average_speed_km_h'] =((activities_df['distance']/1000)/(activities_df['moving_time']/3600))\n"
   ]
  },
  {
   "cell_type": "markdown",
   "metadata": {},
   "source": [
    "## Creo una somma progressia della colonna distanza partendo dalla corsa meno recente fino alla più recente"
   ]
  },
  {
   "cell_type": "code",
   "execution_count": 5,
   "metadata": {},
   "outputs": [],
   "source": [
    "# Convertire la colonna 'Data' in un formato di data\n",
    "activities_df['start_date'] = pd.to_datetime(activities_df['start_date'])\n",
    "\n",
    "# Ordinare il DataFrame in base alla colonna 'Data'\n",
    "activities_df = activities_df.sort_values(by='start_date', ascending=True)\n",
    "\n",
    "# Calcolare la somma cumulativa della colonna 'Valore'\n",
    "activities_df['cumulative_km'] = (activities_df['distance']/1000).cumsum()"
   ]
  },
  {
   "cell_type": "markdown",
   "metadata": {},
   "source": [
    "## Stampo il dataframe con l'aggiunta delle colonne calcolate"
   ]
  },
  {
   "cell_type": "code",
   "execution_count": 6,
   "metadata": {},
   "outputs": [
    {
     "data": {
      "text/html": [
       "<div>\n",
       "<style scoped>\n",
       "    .dataframe tbody tr th:only-of-type {\n",
       "        vertical-align: middle;\n",
       "    }\n",
       "\n",
       "    .dataframe tbody tr th {\n",
       "        vertical-align: top;\n",
       "    }\n",
       "\n",
       "    .dataframe thead th {\n",
       "        text-align: right;\n",
       "    }\n",
       "</style>\n",
       "<table border=\"1\" class=\"dataframe\">\n",
       "  <thead>\n",
       "    <tr style=\"text-align: right;\">\n",
       "      <th></th>\n",
       "      <th>average_heartrate</th>\n",
       "      <th>average_speed</th>\n",
       "      <th>average_speed_min_km</th>\n",
       "      <th>average_speed_km_h</th>\n",
       "      <th>name</th>\n",
       "      <th>distance</th>\n",
       "      <th>cumulative_km</th>\n",
       "      <th>max_heartrate</th>\n",
       "      <th>max_speed</th>\n",
       "      <th>moving_time</th>\n",
       "      <th>sport_type</th>\n",
       "      <th>start_date</th>\n",
       "    </tr>\n",
       "  </thead>\n",
       "  <tbody>\n",
       "    <tr>\n",
       "      <th>140</th>\n",
       "      <td>166.5</td>\n",
       "      <td>2.190</td>\n",
       "      <td>7.366838</td>\n",
       "      <td>7.882916</td>\n",
       "      <td>Corsa pomeridiana</td>\n",
       "      <td>6398.3</td>\n",
       "      <td>6.3983</td>\n",
       "      <td>180.0</td>\n",
       "      <td>4.026</td>\n",
       "      <td>2922</td>\n",
       "      <td>Run</td>\n",
       "      <td>2022-11-04 12:01:22+00:00</td>\n",
       "    </tr>\n",
       "    <tr>\n",
       "      <th>139</th>\n",
       "      <td>161.7</td>\n",
       "      <td>2.146</td>\n",
       "      <td>7.459205</td>\n",
       "      <td>7.726641</td>\n",
       "      <td>Corsa dell'ora di pranzo</td>\n",
       "      <td>7692.3</td>\n",
       "      <td>14.0906</td>\n",
       "      <td>178.0</td>\n",
       "      <td>3.997</td>\n",
       "      <td>3584</td>\n",
       "      <td>Run</td>\n",
       "      <td>2022-11-05 10:38:55+00:00</td>\n",
       "    </tr>\n",
       "    <tr>\n",
       "      <th>138</th>\n",
       "      <td>166.7</td>\n",
       "      <td>2.283</td>\n",
       "      <td>7.180646</td>\n",
       "      <td>8.217966</td>\n",
       "      <td>Corsa mattutina</td>\n",
       "      <td>7339.1</td>\n",
       "      <td>21.4297</td>\n",
       "      <td>184.0</td>\n",
       "      <td>3.938</td>\n",
       "      <td>3215</td>\n",
       "      <td>Run</td>\n",
       "      <td>2022-11-07 05:38:44+00:00</td>\n",
       "    </tr>\n",
       "    <tr>\n",
       "      <th>137</th>\n",
       "      <td>170.2</td>\n",
       "      <td>2.412</td>\n",
       "      <td>6.545808</td>\n",
       "      <td>8.683471</td>\n",
       "      <td>Corsa pomeridiana</td>\n",
       "      <td>21014.0</td>\n",
       "      <td>42.4437</td>\n",
       "      <td>182.0</td>\n",
       "      <td>4.094</td>\n",
       "      <td>8712</td>\n",
       "      <td>Run</td>\n",
       "      <td>2022-11-13 15:13:42+00:00</td>\n",
       "    </tr>\n",
       "    <tr>\n",
       "      <th>136</th>\n",
       "      <td>168.8</td>\n",
       "      <td>2.228</td>\n",
       "      <td>7.288954</td>\n",
       "      <td>8.019685</td>\n",
       "      <td>Corsa mattutina</td>\n",
       "      <td>5092.5</td>\n",
       "      <td>47.5362</td>\n",
       "      <td>183.0</td>\n",
       "      <td>4.098</td>\n",
       "      <td>2286</td>\n",
       "      <td>Run</td>\n",
       "      <td>2022-11-18 05:07:26+00:00</td>\n",
       "    </tr>\n",
       "    <tr>\n",
       "      <th>...</th>\n",
       "      <td>...</td>\n",
       "      <td>...</td>\n",
       "      <td>...</td>\n",
       "      <td>...</td>\n",
       "      <td>...</td>\n",
       "      <td>...</td>\n",
       "      <td>...</td>\n",
       "      <td>...</td>\n",
       "      <td>...</td>\n",
       "      <td>...</td>\n",
       "      <td>...</td>\n",
       "      <td>...</td>\n",
       "    </tr>\n",
       "    <tr>\n",
       "      <th>4</th>\n",
       "      <td>142.1</td>\n",
       "      <td>2.337</td>\n",
       "      <td>7.078602</td>\n",
       "      <td>8.413964</td>\n",
       "      <td>Corsa mattutina</td>\n",
       "      <td>15023.6</td>\n",
       "      <td>1373.3834</td>\n",
       "      <td>166.0</td>\n",
       "      <td>4.124</td>\n",
       "      <td>6428</td>\n",
       "      <td>Run</td>\n",
       "      <td>2024-04-08 03:38:47+00:00</td>\n",
       "    </tr>\n",
       "    <tr>\n",
       "      <th>3</th>\n",
       "      <td>138.9</td>\n",
       "      <td>2.186</td>\n",
       "      <td>7.374315</td>\n",
       "      <td>7.870031</td>\n",
       "      <td>Corsa mattutina</td>\n",
       "      <td>7008.7</td>\n",
       "      <td>1380.3921</td>\n",
       "      <td>147.0</td>\n",
       "      <td>3.090</td>\n",
       "      <td>3206</td>\n",
       "      <td>Run</td>\n",
       "      <td>2024-04-09 03:51:47+00:00</td>\n",
       "    </tr>\n",
       "    <tr>\n",
       "      <th>2</th>\n",
       "      <td>163.4</td>\n",
       "      <td>2.816</td>\n",
       "      <td>5.550825</td>\n",
       "      <td>10.138490</td>\n",
       "      <td>Corsa mattutina</td>\n",
       "      <td>8614.9</td>\n",
       "      <td>1389.0070</td>\n",
       "      <td>178.0</td>\n",
       "      <td>4.034</td>\n",
       "      <td>3059</td>\n",
       "      <td>Run</td>\n",
       "      <td>2024-04-10 04:09:50+00:00</td>\n",
       "    </tr>\n",
       "    <tr>\n",
       "      <th>1</th>\n",
       "      <td>155.3</td>\n",
       "      <td>2.488</td>\n",
       "      <td>6.418504</td>\n",
       "      <td>8.958558</td>\n",
       "      <td>Corsa mattutina</td>\n",
       "      <td>9598.1</td>\n",
       "      <td>1398.6051</td>\n",
       "      <td>168.0</td>\n",
       "      <td>3.842</td>\n",
       "      <td>3857</td>\n",
       "      <td>Run</td>\n",
       "      <td>2024-04-12 03:52:18+00:00</td>\n",
       "    </tr>\n",
       "    <tr>\n",
       "      <th>0</th>\n",
       "      <td>164.3</td>\n",
       "      <td>2.871</td>\n",
       "      <td>5.482809</td>\n",
       "      <td>10.336484</td>\n",
       "      <td>Corsa mattutina</td>\n",
       "      <td>15008.0</td>\n",
       "      <td>1413.6131</td>\n",
       "      <td>174.0</td>\n",
       "      <td>4.066</td>\n",
       "      <td>5227</td>\n",
       "      <td>Run</td>\n",
       "      <td>2024-04-13 04:07:09+00:00</td>\n",
       "    </tr>\n",
       "  </tbody>\n",
       "</table>\n",
       "<p>141 rows × 12 columns</p>\n",
       "</div>"
      ],
      "text/plain": [
       "     average_heartrate  average_speed  average_speed_min_km  \\\n",
       "140              166.5          2.190              7.366838   \n",
       "139              161.7          2.146              7.459205   \n",
       "138              166.7          2.283              7.180646   \n",
       "137              170.2          2.412              6.545808   \n",
       "136              168.8          2.228              7.288954   \n",
       "..                 ...            ...                   ...   \n",
       "4                142.1          2.337              7.078602   \n",
       "3                138.9          2.186              7.374315   \n",
       "2                163.4          2.816              5.550825   \n",
       "1                155.3          2.488              6.418504   \n",
       "0                164.3          2.871              5.482809   \n",
       "\n",
       "     average_speed_km_h                      name  distance  cumulative_km  \\\n",
       "140            7.882916         Corsa pomeridiana    6398.3         6.3983   \n",
       "139            7.726641  Corsa dell'ora di pranzo    7692.3        14.0906   \n",
       "138            8.217966           Corsa mattutina    7339.1        21.4297   \n",
       "137            8.683471         Corsa pomeridiana   21014.0        42.4437   \n",
       "136            8.019685           Corsa mattutina    5092.5        47.5362   \n",
       "..                  ...                       ...       ...            ...   \n",
       "4              8.413964           Corsa mattutina   15023.6      1373.3834   \n",
       "3              7.870031           Corsa mattutina    7008.7      1380.3921   \n",
       "2             10.138490           Corsa mattutina    8614.9      1389.0070   \n",
       "1              8.958558           Corsa mattutina    9598.1      1398.6051   \n",
       "0             10.336484           Corsa mattutina   15008.0      1413.6131   \n",
       "\n",
       "     max_heartrate  max_speed  moving_time sport_type  \\\n",
       "140          180.0      4.026         2922        Run   \n",
       "139          178.0      3.997         3584        Run   \n",
       "138          184.0      3.938         3215        Run   \n",
       "137          182.0      4.094         8712        Run   \n",
       "136          183.0      4.098         2286        Run   \n",
       "..             ...        ...          ...        ...   \n",
       "4            166.0      4.124         6428        Run   \n",
       "3            147.0      3.090         3206        Run   \n",
       "2            178.0      4.034         3059        Run   \n",
       "1            168.0      3.842         3857        Run   \n",
       "0            174.0      4.066         5227        Run   \n",
       "\n",
       "                   start_date  \n",
       "140 2022-11-04 12:01:22+00:00  \n",
       "139 2022-11-05 10:38:55+00:00  \n",
       "138 2022-11-07 05:38:44+00:00  \n",
       "137 2022-11-13 15:13:42+00:00  \n",
       "136 2022-11-18 05:07:26+00:00  \n",
       "..                        ...  \n",
       "4   2024-04-08 03:38:47+00:00  \n",
       "3   2024-04-09 03:51:47+00:00  \n",
       "2   2024-04-10 04:09:50+00:00  \n",
       "1   2024-04-12 03:52:18+00:00  \n",
       "0   2024-04-13 04:07:09+00:00  \n",
       "\n",
       "[141 rows x 12 columns]"
      ]
     },
     "execution_count": 6,
     "metadata": {},
     "output_type": "execute_result"
    }
   ],
   "source": [
    "column_relevant = ['average_heartrate'\n",
    ",'average_speed'\n",
    ",'average_speed_min_km'\n",
    ",'average_speed_km_h'\n",
    ",'name'\n",
    ",'distance'\n",
    ",'cumulative_km'\n",
    ",'max_heartrate'\n",
    ",'max_speed'\n",
    ",'moving_time'\n",
    ",'sport_type'\n",
    ",'start_date']\n",
    "\n",
    "activities_df[column_relevant]\n"
   ]
  },
  {
   "cell_type": "code",
   "execution_count": 65,
   "metadata": {},
   "outputs": [],
   "source": [
    "activities_df.to_csv('RunTracker.csv', sep=';')"
   ]
  },
  {
   "cell_type": "code",
   "execution_count": null,
   "metadata": {},
   "outputs": [],
   "source": []
  }
 ],
 "metadata": {
  "kernelspec": {
   "display_name": "env",
   "language": "python",
   "name": "python3"
  },
  "language_info": {
   "codemirror_mode": {
    "name": "ipython",
    "version": 3
   },
   "file_extension": ".py",
   "mimetype": "text/x-python",
   "name": "python",
   "nbconvert_exporter": "python",
   "pygments_lexer": "ipython3",
   "version": "3.12.2"
  }
 },
 "nbformat": 4,
 "nbformat_minor": 2
}
