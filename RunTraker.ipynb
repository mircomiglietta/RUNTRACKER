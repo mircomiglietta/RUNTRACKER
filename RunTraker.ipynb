{
 "cells": [
  {
   "cell_type": "code",
   "execution_count": 7,
   "metadata": {},
   "outputs": [],
   "source": [
    "client_id=''\n",
    "client_secret = ''\n",
    "access_token = ''"
   ]
  },
  {
   "cell_type": "code",
   "execution_count": null,
   "metadata": {},
   "outputs": [],
   "source": [
    "import requests\n",
    "\n",
    "url = 'https://www.strava.com/api/v3/athlete'\n",
    "headers = {\n",
    "    'Authorization': 'Bearer '+access_token\n",
    "}\n",
    "\n",
    "response = requests.get(url, headers=headers)\n",
    "\n",
    "# Per stampare lo status code della risposta\n",
    "print(\"Status Code:\", response.status_code)\n",
    "\n",
    "# Per stampare il contenuto della risposta (ad esempio, in formato JSON)\n",
    "print(\"Response Content:\", response.json())\n"
   ]
  },
  {
   "cell_type": "code",
   "execution_count": null,
   "metadata": {},
   "outputs": [],
   "source": [
    "from IPython.display import display, Markdown\n",
    "\n",
    "# Supponiamo che questa sia la variabile dove hai salvato l'access_token\n",
    "\n",
    "markdown_text = f\"\"\"\n",
    "Per ottenere le informazioni sull'atleta, copia e incolla il seguente url nel tuo Browser, clicca sul pulsante autorizza e poi ricordati di inserire il nuovo url della pagina web nella cella sottostante:\n",
    "\n",
    "```bash\n",
    "https://www.strava.com/oauth/authorize?client_id={client_id}&redirect_uri=http://localhost&response_type=code&scope=activity:read_all\"\"\"\n",
    "\n",
    "display(Markdown(markdown_text))\n"
   ]
  },
  {
   "cell_type": "code",
   "execution_count": 10,
   "metadata": {},
   "outputs": [],
   "source": [
    "url_restituito='http://localhost/?state=&code=48b09c053d5d63bffd50adc0fb9f9e796447a200&scope=read,activity:read_all'"
   ]
  },
  {
   "cell_type": "code",
   "execution_count": null,
   "metadata": {},
   "outputs": [],
   "source": [
    "from urllib.parse import urlparse, parse_qs\n",
    "\n",
    "# L'URL da cui estrarre il codice\n",
    "url = url_restituito\n",
    "# Analizza l'URL per ottenere i componenti\n",
    "parsed_url = urlparse(url)\n",
    "\n",
    "# Estrai la stringa di query dall'URL analizzato\n",
    "query_string = parsed_url.query\n",
    "\n",
    "# Analizza la stringa di query per ottenere un dizionario dei parametri\n",
    "query_params = parse_qs(query_string)\n",
    "\n",
    "# Ora puoi ottenere il valore del codice\n",
    "code = query_params[\"code\"][0]  # '55f45adede3de7b8335cfc46ec4e8199d5bf7b62'\n",
    "print(code)\n"
   ]
  },
  {
   "cell_type": "code",
   "execution_count": null,
   "metadata": {},
   "outputs": [],
   "source": [
    "import requests\n",
    "\n",
    "# Sostituisci questi valori con i tuoi dati reali\n",
    "client_id = client_id\n",
    "client_secret = client_secret\n",
    "code = code  # Il codice di autorizzazione ottenuto\n",
    "\n",
    "url = 'https://www.strava.com/oauth/token'\n",
    "\n",
    "data = {\n",
    "    'client_id': client_id,\n",
    "    'client_secret': client_secret,\n",
    "    'code': code,\n",
    "    'grant_type': 'authorization_code'\n",
    "}\n",
    "\n",
    "response = requests.post(url, data=data)\n",
    "\n",
    "if response.status_code == 200:\n",
    "    # La richiesta è andata a buon fine; estrai il token di accesso dalla risposta\n",
    "    tokens = response.json()\n",
    "    access_token = tokens['access_token']\n",
    "    refresh_token = tokens['refresh_token']  # Puoi salvarlo per rinnovare l'accesso in futuro\n",
    "    print(\"Access Token:\", access_token, refresh_token)\n",
    "    # Puoi anche stampare o salvare il refresh_token se necessario\n",
    "else:\n",
    "    print(\"Errore nella richiesta:\", response.status_code, response.text)\n"
   ]
  },
  {
   "cell_type": "markdown",
   "metadata": {},
   "source": [
    "# DA QUI IN POI RIPETERE PER SCARICARE I NUOVI DATI, GLI STEP PRECEDENTI NON SONO DA RIPETERE."
   ]
  },
  {
   "cell_type": "code",
   "execution_count": null,
   "metadata": {},
   "outputs": [],
   "source": [
    "import pandas as pd\n",
    "import requests\n",
    "\n",
    "\n",
    "auth_url = \"https://www.strava.com/oauth/token\"\n",
    "activites_url = \"https://www.strava.com/api/v3/athlete/activities\"\n",
    "\n",
    "payload = {\n",
    "    'client_id':    client_id,\n",
    "    'client_secret': client_secret,\n",
    "    'refresh_token': refresh_token,\n",
    "    'grant_type': \"refresh_token\",\n",
    "    'f': 'json'\n",
    "}\n",
    "\n",
    "print(\"Requesting Token...\\n\")\n",
    "res = requests.post(auth_url, data=payload, verify=False)\n",
    "access_token = res.json()['access_token']\n",
    "print(\"Access Token = {}\\n\".format(access_token))\n",
    "datasets = []\n",
    "page =1 \n",
    "page_not_empty = True\n",
    "while page_not_empty:\n",
    "    header = {'Authorization': 'Bearer ' + access_token}\n",
    "    param = {'per_page': 200, 'page': page}\n",
    "    response = requests.get(activites_url, headers=header, params=param)\n",
    "    \n",
    "    if response.status_code != 200:\n",
    "        print(\"Failed to retrieve data for page {}\".format(page))\n",
    "        break\n",
    "\n",
    "    my_dataset = pd.DataFrame(response.json())\n",
    "    \n",
    "    if my_dataset.empty:\n",
    "        break\n",
    "\n",
    "    datasets.append(my_dataset)\n",
    "    print(\"Retrieved page {}\".format(page))\n",
    "    page += 1\n",
    "\n",
    "    activities_df = pd.concat(datasets, ignore_index=True)\n",
    "else:\n",
    "    print(\"Failed to retrieve access token\")\n",
    "\n",
    "\n",
    "\n",
    "\n"
   ]
  },
  {
   "cell_type": "markdown",
   "metadata": {},
   "source": [
    "## Stampo i nomi delle colonne del Df per capire quali tenere "
   ]
  },
  {
   "cell_type": "code",
   "execution_count": null,
   "metadata": {},
   "outputs": [],
   "source": [
    "print(activities_df)"
   ]
  },
  {
   "cell_type": "code",
   "execution_count": 17,
   "metadata": {},
   "outputs": [],
   "source": [
    "activities_df.to_csv('RunTracker.csv', sep=';')"
   ]
  }
 ],
 "metadata": {
  "kernelspec": {
   "display_name": "env",
   "language": "python",
   "name": "python3"
  },
  "language_info": {
   "codemirror_mode": {
    "name": "ipython",
    "version": 3
   },
   "file_extension": ".py",
   "mimetype": "text/x-python",
   "name": "python",
   "nbconvert_exporter": "python",
   "pygments_lexer": "ipython3",
   "version": "3.12.2"
  }
 },
 "nbformat": 4,
 "nbformat_minor": 2
}
